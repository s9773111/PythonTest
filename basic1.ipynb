{
 "cells": [
  {
   "metadata": {},
   "cell_type": "markdown",
   "source": [
    "# basic\n",
    "- print(), 變數, input(),type()\n",
    "- 資料運算\n",
    "- list: [], index,取出, append()\n",
    "- if, if-else, if-elif-else\n",
    "- for, range()\n",
    "- import\n",
    "  - random, randint()\n"
   ],
   "id": "6ec433891c35abe4"
  },
  {
   "metadata": {
    "ExecuteTime": {
     "end_time": "2025-10-16T07:40:06.814591Z",
     "start_time": "2025-10-16T07:40:06.810051Z"
    }
   },
   "cell_type": "code",
   "source": [
    "n = 'Isaac'\n",
    "print('Hello', n)"
   ],
   "id": "1a9478b12570c783",
   "outputs": [
    {
     "name": "stdout",
     "output_type": "stream",
     "text": [
      "Hello Isaac\n"
     ]
    }
   ],
   "execution_count": 1
  },
  {
   "metadata": {
    "ExecuteTime": {
     "end_time": "2025-10-16T07:40:41.561521Z",
     "start_time": "2025-10-16T07:40:41.555153Z"
    }
   },
   "cell_type": "code",
   "source": [
    "n = 'Python'\n",
    "m = 2025\n",
    "print('Hello,', n, m, '.')"
   ],
   "id": "905523261b07e14c",
   "outputs": [
    {
     "name": "stdout",
     "output_type": "stream",
     "text": [
      "Hello, Python 2025 .\n"
     ]
    }
   ],
   "execution_count": 2
  },
  {
   "metadata": {
    "ExecuteTime": {
     "end_time": "2025-10-16T03:20:39.270733Z",
     "start_time": "2025-10-16T03:20:36.283965Z"
    }
   },
   "cell_type": "code",
   "source": [
    "# 使用input\n",
    "n = input('請輸入文字: ')\n",
    "print('Hello,',n)"
   ],
   "id": "a5ddf464c197ca43",
   "outputs": [
    {
     "name": "stdout",
     "output_type": "stream",
     "text": [
      "Hello, test\n"
     ]
    }
   ],
   "execution_count": 11
  },
  {
   "metadata": {
    "ExecuteTime": {
     "end_time": "2025-10-16T03:21:11.705736Z",
     "start_time": "2025-10-16T03:21:11.701831Z"
    }
   },
   "cell_type": "code",
   "source": [
    "#變數\n",
    "a = 4\n",
    "b = 3.14\n",
    "c = 'Alice'\n",
    "d = True\n",
    "print(a,b,c,d)"
   ],
   "id": "7e8da05f3898c5b5",
   "outputs": [
    {
     "name": "stdout",
     "output_type": "stream",
     "text": [
      "4 3.14 Alice True\n"
     ]
    }
   ],
   "execution_count": 12
  },
  {
   "metadata": {
    "ExecuteTime": {
     "end_time": "2025-10-16T03:21:19.586399Z",
     "start_time": "2025-10-16T03:21:19.578870Z"
    }
   },
   "cell_type": "code",
   "source": "type(b)",
   "id": "ddbd22bd688dc3d4",
   "outputs": [
    {
     "data": {
      "text/plain": [
       "float"
      ]
     },
     "execution_count": 13,
     "metadata": {},
     "output_type": "execute_result"
    }
   ],
   "execution_count": 13
  },
  {
   "metadata": {
    "ExecuteTime": {
     "end_time": "2025-10-16T07:43:59.047687Z",
     "start_time": "2025-10-16T07:43:59.042033Z"
    }
   },
   "cell_type": "code",
   "source": [
    "# 基礎運算\n",
    "a = 3\n",
    "b = 2\n",
    "print(a+b, a-b, a*b, a/b, a**b)\n",
    "\n",
    "#畢氏定理, 開根號 *0.5\n",
    "a = 3\n",
    "b = 4\n",
    "c = (a**2+b**2) ** 0.5\n",
    "print(c)"
   ],
   "id": "62b280a189c6b8b8",
   "outputs": [
    {
     "name": "stdout",
     "output_type": "stream",
     "text": [
      "5 1 6 1.5 9\n",
      "5.0\n"
     ]
    }
   ],
   "execution_count": 1
  },
  {
   "metadata": {
    "ExecuteTime": {
     "end_time": "2025-10-16T07:47:17.015717Z",
     "start_time": "2025-10-16T07:47:07.551887Z"
    }
   },
   "cell_type": "code",
   "source": [
    "c = int(input('輸入國文分數:'))\n",
    "e = int(input('輸入英文分數:'))\n",
    "m = int(input('輸入數學分數:'))\n",
    "total = c + e + m\n",
    "print('總分為:',total)"
   ],
   "id": "67f3e8af7cbc350f",
   "outputs": [
    {
     "name": "stdout",
     "output_type": "stream",
     "text": [
      "總分為: 65\n"
     ]
    }
   ],
   "execution_count": 2
  },
  {
   "metadata": {
    "ExecuteTime": {
     "end_time": "2025-10-16T07:48:05.155542Z",
     "start_time": "2025-10-16T07:48:05.149142Z"
    }
   },
   "cell_type": "code",
   "source": [
    "# 串列 list []\n",
    "c = ['國文', '英文', '數學']\n",
    "s = [88, 56, 75]\n",
    "print(c)\n",
    "print(s)\n",
    "print(c[2], s[2])"
   ],
   "id": "a2d23580fee3cea5",
   "outputs": [
    {
     "name": "stdout",
     "output_type": "stream",
     "text": [
      "['國文', '英文', '數學']\n",
      "[88, 56, 75]\n",
      "數學 75\n"
     ]
    }
   ],
   "execution_count": 4
  },
  {
   "metadata": {
    "ExecuteTime": {
     "end_time": "2025-10-16T07:53:05.279141Z",
     "start_time": "2025-10-16T07:53:05.273476Z"
    }
   },
   "cell_type": "code",
   "source": [
    "# 二維串列\n",
    "cs = [['國文', '英文', '數學'], [88, 56, 75]]\n",
    "print(cs)\n",
    "print(cs[0][1], cs[1][1])"
   ],
   "id": "240512ab4cf52248",
   "outputs": [
    {
     "name": "stdout",
     "output_type": "stream",
     "text": [
      "[['國文', '英文', '數學'], [88, 56, 75]]\n",
      "英文 56\n"
     ]
    }
   ],
   "execution_count": 5
  },
  {
   "metadata": {
    "ExecuteTime": {
     "end_time": "2025-10-17T03:21:40.379881Z",
     "start_time": "2025-10-17T03:21:40.374635Z"
    }
   },
   "cell_type": "code",
   "source": [
    "# list 可放不同型態\n",
    "data = [1, \"apple\", True, 3.14]\n",
    "print(data)\n",
    "print(\"型態:\", type(data))"
   ],
   "id": "9c4ccb4432df807d",
   "outputs": [
    {
     "name": "stdout",
     "output_type": "stream",
     "text": [
      "[1, 'apple', True, 3.14]\n",
      "型態: <class 'list'>\n"
     ]
    }
   ],
   "execution_count": 3
  },
  {
   "metadata": {
    "ExecuteTime": {
     "end_time": "2025-10-17T03:21:50.347054Z",
     "start_time": "2025-10-17T03:21:50.344859Z"
    }
   },
   "cell_type": "code",
   "source": [
    "# 陣列\n",
    "import array\n",
    "a = array.array('i', [1,2,3])\n",
    "print(a)\n",
    "print(\"型態:\", type(a))"
   ],
   "id": "9d90261862e39a2e",
   "outputs": [
    {
     "name": "stdout",
     "output_type": "stream",
     "text": [
      "array('i', [1, 2, 3])\n",
      "型態: <class 'array.array'>\n"
     ]
    }
   ],
   "execution_count": 4
  },
  {
   "metadata": {
    "ExecuteTime": {
     "end_time": "2025-10-17T03:28:36.203075Z",
     "start_time": "2025-10-17T03:28:36.199213Z"
    }
   },
   "cell_type": "code",
   "source": [
    "# 操作一維串列元素\n",
    "a = [1, True, 9.5, 'one']\n",
    "print(a)\n",
    "print(a[0], a[1])\n",
    "print(a[-1])\n",
    "print(a[0:2]) # 最後一個不算(0~1)\n",
    "print(a[:]) #all"
   ],
   "id": "868a038f8ac67ecd",
   "outputs": [
    {
     "name": "stdout",
     "output_type": "stream",
     "text": [
      "[1, True, 9.5, 'one']\n",
      "1 True\n",
      "one\n",
      "[1, True]\n",
      "[1, True, 9.5, 'one']\n"
     ]
    }
   ],
   "execution_count": 12
  },
  {
   "metadata": {
    "ExecuteTime": {
     "end_time": "2025-10-17T03:28:34.236047Z",
     "start_time": "2025-10-17T03:28:34.233225Z"
    }
   },
   "cell_type": "code",
   "source": [
    "# 添加\n",
    "aa = [1, True, 9.5, 'one']\n",
    "aa.append(100)\n",
    "print(aa)"
   ],
   "id": "1d712fe97563fdf1",
   "outputs": [
    {
     "name": "stdout",
     "output_type": "stream",
     "text": [
      "[1, True, 9.5, 'one', 100]\n"
     ]
    }
   ],
   "execution_count": 11
  },
  {
   "metadata": {
    "ExecuteTime": {
     "end_time": "2025-10-17T03:28:39.172195Z",
     "start_time": "2025-10-17T03:28:39.168807Z"
    }
   },
   "cell_type": "code",
   "source": [
    "del a[2] #刪除\n",
    "print(a)"
   ],
   "id": "e1527e0c68d7052f",
   "outputs": [
    {
     "name": "stdout",
     "output_type": "stream",
     "text": [
      "[1, True, 'one']\n"
     ]
    }
   ],
   "execution_count": 13
  },
  {
   "metadata": {
    "ExecuteTime": {
     "end_time": "2025-10-17T03:37:26.442742Z",
     "start_time": "2025-10-17T03:37:26.438943Z"
    }
   },
   "cell_type": "code",
   "source": [
    "# 切片[start:end:step]\n",
    "b = [1, True, 9.5, 'one', 'two', 99]\n",
    "print(b[1:4]) #索引1-3\n",
    "print(b[:3]) #索引0-2\n",
    "print(b[3:]) #從索引3到結尾\n",
    "print(b[::2]) # 每隔2取一個, 第1個一定會取\n",
    "print(b[::-1]) # 倒序排列\n",
    "print(b[1:-1]) # 索引1到倒數第二個"
   ],
   "id": "b7ddc6b8e092bc0c",
   "outputs": [
    {
     "name": "stdout",
     "output_type": "stream",
     "text": [
      "[True, 9.5, 'one']\n",
      "[1, True, 9.5]\n",
      "['one', 'two', 99]\n",
      "[1, 9.5, 'two']\n",
      "[99, 'two', 'one', 9.5, True, 1]\n",
      "[True, 9.5, 'one', 'two']\n"
     ]
    }
   ],
   "execution_count": 19
  },
  {
   "metadata": {
    "ExecuteTime": {
     "end_time": "2025-10-17T03:40:07.530619Z",
     "start_time": "2025-10-17T03:40:07.526104Z"
    }
   },
   "cell_type": "code",
   "source": [
    "# 常見操作\n",
    "c = b[:] # 複製\n",
    "print(c)"
   ],
   "id": "27fbe74cbc8adece",
   "outputs": [
    {
     "name": "stdout",
     "output_type": "stream",
     "text": [
      "[1, True, 9.5, 'one', 'two', 99]\n"
     ]
    }
   ],
   "execution_count": 20
  },
  {
   "metadata": {
    "ExecuteTime": {
     "end_time": "2025-10-17T03:51:40.546685Z",
     "start_time": "2025-10-17T03:51:37.593155Z"
    }
   },
   "cell_type": "code",
   "source": [
    "# if條件判斷\n",
    "x = 60\n",
    "n = int(input('輸入數字，猜猜看:'))\n",
    "if n == x:\n",
    "    print('猜中囉')\n",
    "    print('Good job')\n",
    "if n > x:\n",
    "    print('太大')\n",
    "    print('答案是:', x, '才對')\n",
    "if n < x:\n",
    "    print('太小!')"
   ],
   "id": "bb79b472d3194168",
   "outputs": [
    {
     "name": "stdout",
     "output_type": "stream",
     "text": [
      "太小!\n"
     ]
    }
   ],
   "execution_count": 23
  },
  {
   "metadata": {
    "ExecuteTime": {
     "end_time": "2025-10-20T05:41:44.932332Z",
     "start_time": "2025-10-20T05:41:44.927638Z"
    }
   },
   "cell_type": "code",
   "source": [
    "# 重複\n",
    "寶可夢 = ['妙蛙種子', '妙娃草', '噴火龍', '綠毛蟲']\n",
    "for 抓寶 in 寶可夢:\n",
    "    print(抓寶)"
   ],
   "id": "2c338ce10141f7ce",
   "outputs": [
    {
     "name": "stdout",
     "output_type": "stream",
     "text": [
      "妙蛙種子\n",
      "妙娃草\n",
      "噴火龍\n",
      "綠毛蟲\n"
     ]
    }
   ],
   "execution_count": 1
  },
  {
   "metadata": {
    "ExecuteTime": {
     "end_time": "2025-10-20T05:42:32.580054Z",
     "start_time": "2025-10-20T05:42:32.575481Z"
    }
   },
   "cell_type": "code",
   "source": [
    "t = ['國文','英文','數學','資訊科技']\n",
    "s = [84, 92, 88, 95]\n",
    "\n",
    "for i in [0,1,2,3]:\n",
    "    print(t[i])\n",
    "for i in range(4):\n",
    "    print(s[i])"
   ],
   "id": "85391b820a59f46c",
   "outputs": [
    {
     "name": "stdout",
     "output_type": "stream",
     "text": [
      "國文\n",
      "英文\n",
      "數學\n",
      "資訊科技\n",
      "84\n",
      "92\n",
      "88\n",
      "95\n"
     ]
    }
   ],
   "execution_count": 2
  },
  {
   "metadata": {
    "ExecuteTime": {
     "end_time": "2025-10-20T05:43:02.046370Z",
     "start_time": "2025-10-20T05:43:02.044028Z"
    }
   },
   "cell_type": "code",
   "source": [
    "# 模組匯入\n",
    "import random as rd\n",
    "x = rd.randint(1,10)\n",
    "print(x)"
   ],
   "id": "d3a10c73524ee451",
   "outputs": [
    {
     "name": "stdout",
     "output_type": "stream",
     "text": [
      "8\n"
     ]
    }
   ],
   "execution_count": 4
  },
  {
   "metadata": {
    "ExecuteTime": {
     "end_time": "2025-10-20T05:44:22.605020Z",
     "start_time": "2025-10-20T05:44:13.038680Z"
    }
   },
   "cell_type": "code",
   "source": [
    "import random as rd\n",
    "x = rd.randint(1,10)\n",
    "for i in range(3):\n",
    "    s = int(input('猜數字1-10:'))\n",
    "    if x==s:\n",
    "        print('猜中')\n",
    "        break\n",
    "    elif x > s:\n",
    "        print('大一點')\n",
    "    elif x < s:\n",
    "        print('小一點')\n",
    "print('遊戲結束!')"
   ],
   "id": "4890d0d49433ffc4",
   "outputs": [
    {
     "name": "stdout",
     "output_type": "stream",
     "text": [
      "大一點\n",
      "大一點\n",
      "大一點\n",
      "遊戲結束!\n"
     ]
    }
   ],
   "execution_count": 5
  },
  {
   "metadata": {},
   "cell_type": "code",
   "outputs": [],
   "execution_count": null,
   "source": "",
   "id": "12563cdca0a7b7b8"
  }
 ],
 "metadata": {
  "kernelspec": {
   "display_name": "Python 3",
   "language": "python",
   "name": "python3"
  },
  "language_info": {
   "codemirror_mode": {
    "name": "ipython",
    "version": 2
   },
   "file_extension": ".py",
   "mimetype": "text/x-python",
   "name": "python",
   "nbconvert_exporter": "python",
   "pygments_lexer": "ipython2",
   "version": "2.7.6"
  }
 },
 "nbformat": 4,
 "nbformat_minor": 5
}
