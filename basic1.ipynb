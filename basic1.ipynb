{
 "cells": [
  {
   "metadata": {},
   "cell_type": "markdown",
   "source": [
    "# basic\n",
    "- print(), 變數, input(),type()\n",
    "- 資料運算\n",
    "- list: [], index,取出, append()\n",
    "- if, if-else, if-elif-else\n",
    "- for, range()\n",
    "- import\n",
    "  - random, randint()\n"
   ],
   "id": "6ec433891c35abe4"
  },
  {
   "metadata": {
    "ExecuteTime": {
     "end_time": "2025-10-16T03:17:42.790230Z",
     "start_time": "2025-10-16T03:17:42.785091Z"
    }
   },
   "cell_type": "code",
   "source": [
    "n = 'Isaac'\n",
    "print('Hello', n)"
   ],
   "id": "1a9478b12570c783",
   "outputs": [
    {
     "name": "stdout",
     "output_type": "stream",
     "text": [
      "Hello Isaac\n"
     ]
    }
   ],
   "execution_count": 8
  },
  {
   "metadata": {
    "ExecuteTime": {
     "end_time": "2025-10-16T03:20:17.332334Z",
     "start_time": "2025-10-16T03:20:17.329203Z"
    }
   },
   "cell_type": "code",
   "source": [
    "n = 'Python'\n",
    "m = 2025\n",
    "print('Hello,', n, m, '.')"
   ],
   "id": "905523261b07e14c",
   "outputs": [
    {
     "name": "stdout",
     "output_type": "stream",
     "text": [
      "Hello, Python 2025 .\n"
     ]
    }
   ],
   "execution_count": 10
  },
  {
   "metadata": {
    "ExecuteTime": {
     "end_time": "2025-10-16T03:20:39.270733Z",
     "start_time": "2025-10-16T03:20:36.283965Z"
    }
   },
   "cell_type": "code",
   "source": [
    "# 使用input\n",
    "n = input('請輸入文字: ')\n",
    "print('Hello,',n)"
   ],
   "id": "a5ddf464c197ca43",
   "outputs": [
    {
     "name": "stdout",
     "output_type": "stream",
     "text": [
      "Hello, test\n"
     ]
    }
   ],
   "execution_count": 11
  },
  {
   "metadata": {
    "ExecuteTime": {
     "end_time": "2025-10-16T03:21:11.705736Z",
     "start_time": "2025-10-16T03:21:11.701831Z"
    }
   },
   "cell_type": "code",
   "source": [
    "#變數\n",
    "a = 4\n",
    "b = 3.14\n",
    "c = 'Alice'\n",
    "d = True\n",
    "print(a,b,c,d)"
   ],
   "id": "7e8da05f3898c5b5",
   "outputs": [
    {
     "name": "stdout",
     "output_type": "stream",
     "text": [
      "4 3.14 Alice True\n"
     ]
    }
   ],
   "execution_count": 12
  },
  {
   "metadata": {
    "ExecuteTime": {
     "end_time": "2025-10-16T03:21:19.586399Z",
     "start_time": "2025-10-16T03:21:19.578870Z"
    }
   },
   "cell_type": "code",
   "source": "type(b)",
   "id": "ddbd22bd688dc3d4",
   "outputs": [
    {
     "data": {
      "text/plain": [
       "float"
      ]
     },
     "execution_count": 13,
     "metadata": {},
     "output_type": "execute_result"
    }
   ],
   "execution_count": 13
  },
  {
   "metadata": {
    "ExecuteTime": {
     "end_time": "2025-10-16T03:22:32.536258Z",
     "start_time": "2025-10-16T03:22:32.532422Z"
    }
   },
   "cell_type": "code",
   "source": [
    "# 基礎運算\n",
    "a = 3\n",
    "b = 2\n",
    "print(a+b, a-b, a*b, a/b, a**b)\n",
    "\n",
    "#畢氏定理, 開根號 *0.5\n",
    "a = 3\n",
    "b = 4\n",
    "c = (a**2+b**2) ** 0.5\n",
    "print(c)"
   ],
   "id": "62b280a189c6b8b8",
   "outputs": [
    {
     "name": "stdout",
     "output_type": "stream",
     "text": [
      "5 1 6 1.5 9\n",
      "5.0\n"
     ]
    }
   ],
   "execution_count": 15
  },
  {
   "metadata": {},
   "cell_type": "code",
   "outputs": [],
   "execution_count": null,
   "source": "",
   "id": "67f3e8af7cbc350f"
  }
 ],
 "metadata": {
  "kernelspec": {
   "display_name": "Python 3",
   "language": "python",
   "name": "python3"
  },
  "language_info": {
   "codemirror_mode": {
    "name": "ipython",
    "version": 2
   },
   "file_extension": ".py",
   "mimetype": "text/x-python",
   "name": "python",
   "nbconvert_exporter": "python",
   "pygments_lexer": "ipython2",
   "version": "2.7.6"
  }
 },
 "nbformat": 4,
 "nbformat_minor": 5
}
